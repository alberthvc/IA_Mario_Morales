{
 "cells": [
  {
   "cell_type": "markdown",
   "id": "e35e7af1",
   "metadata": {},
   "source": [
    "# Descripción del data set Financial data of 4400+ public companies"
   ]
  },
  {
   "cell_type": "markdown",
   "id": "4ee98ad9",
   "metadata": {},
   "source": [
    "✅ ¿Qué es?\n",
    "\n",
    "Se trata de un conjunto de datos que contiene información financiera de más de 4 400 empresas públicas.  \n",
    "\n",
    "Los datos fueron raspados (“scraped”) de Yahoo Finance, lo que incluye los estados financieros — el balance general (“balance sheet”), el estado de resultados (“income statement”), y el flujo de caja (“cash flow statement”).  \n",
    "\n",
    "Incluye datos tanto anuales como trimestrales para un período reciente (aproximadamente los últimos 4 años) para cada empresa.  \n"
   ]
  },
  {
   "cell_type": "markdown",
   "id": "cc5c1404",
   "metadata": {},
   "source": [
    "# ¿Qué contiene exactamente?\n",
    "\n",
    "Algunas de las características clave de la base de datos:\n",
    "\n",
    "- Cada empresa viene identificada con su ticker o símbolo bursátil (o equivalente) y posiblemente con su nombre, industria, etc.\n",
    "- Para cada empresa, los datos incluyen:\n",
    "    - Estado de resultados: ingresos, beneficios, gastos, etc.\n",
    "    - Balance general: activos, pasivos, capital contable, etc.\n",
    "    - Flujo de caja: flujos operativos, de inversión, de financiación, etc.\n",
    "- Los datos están organizados para que puedas ver la evolución por trimestre y por año, lo que permite análisis de tendencias.\n",
    "- Se pueden usar variables financieras como predictors (por ejemplo: activos, pasivos, ingresos) y variables objetivo como beneficio, rentabilidad, crecimiento, etc."
   ]
  },
  {
   "cell_type": "markdown",
   "id": "26214904",
   "metadata": {},
   "source": [
    "# Paso 1 — Reconocer el dataset\n",
    "\n",
    "1. Objetivo: investigar el dataset entregado en la asignación 2, revisar el nombre de cada columna y documentar qué representa cada una (tipo, unidad, periodicidad, observaciones).\n",
    "\n",
    "2. Pasos recomendados:\n",
    "    - Cargar el archivo entregado (por ejemplo: df = pd.read_csv(...)) y listar columnas: df.columns\n",
    "    - Para cada columna: buscar su significado (glosario, documentación de la fuente, o inspección de valores).\n",
    "    - Anotar tipo de dato, unidad (USD, porcentaje, entero), periodicidad (trimestral/anual) y cualquier observación (por ejemplo: calculada, acumulada, neta/bruta).\n",
    "    - Generar la lista final con nombre y descripción clara y breve.\n",
    "\n",
    "3. Ejemplo de Plantilla para la lista (reemplazar con las columnas reales del dataset):\n",
    "\n",
    "- ticker: Identificador bursátil de la empresa (string). Ejemplo: \"AAPL\".\n",
    "- fiscal_date: Fecha del periodo financiero (YYYY-MM-DD). Indica el cierre del trimestre/año.\n",
    "- revenue: Ingresos netos durante el periodo (num, USD). Periodicidad: trimestral/anual.\n",
    "- gross_profit: Beneficio bruto (num, USD). Definición: ingresos menos costo de ventas.\n",
    "- operating_income: Resultado operativo (num, USD). Incluye gastos operativos.\n",
    "- net_income: Beneficio neto después de impuestos (num, USD).\n",
    "\n",
    "\n",
    "4. Resultado esperado:\n",
    "    - Un listado documentado con cada columna del dataset y su descripción (puede entregarse como tabla o como lista de pares nombre→descripción)."
   ]
  },
  {
   "cell_type": "code",
   "execution_count": null,
   "id": "6fe63db2",
   "metadata": {},
   "outputs": [],
   "source": [
    "#codigo aqui"
   ]
  },
  {
   "cell_type": "markdown",
   "id": "a426a83b",
   "metadata": {},
   "source": [
    "# Paso 2 — Seleccionar columnas relevantes\n",
    "\n",
    "Después de haber cargado el dataset, elimina todas las columnas y quédate solo con: `stock`, `endDate` y `cash`.\n",
    "\n",
    "- Verifica que los nombres y la capitalización de las columnas sean correctos antes de seleccionar.\n"
   ]
  },
  {
   "cell_type": "code",
   "execution_count": null,
   "id": "51364dd2",
   "metadata": {},
   "outputs": [],
   "source": [
    "#codigo aqui"
   ]
  },
  {
   "cell_type": "markdown",
   "id": "cd386a08",
   "metadata": {},
   "source": [
    "# Paso 3 — Separar por empresas y elegir 3 para predecir su cantidad de dinero por fecha\n",
    "\n",
    "- Objetivo: crear series temporales por empresa usando las columnas `stock`, `endDate` y `cash` y seleccionar 3 empresas para modelar y predecir `cash` por fecha.\n",
    "- Pasos recomendados:\n",
    "    - Verificar que las columnas `stock`, `endDate` y `cash` existen y están limpias (sin valores nulos o con imputación cuando sea necesario).\n",
    "    - Ordenar el dataframe por `stock` y `endDate` (ascendente) para obtener la serie temporal de cada empresa.\n",
    "    - Agrupar por `stock` y crear un subset por empresa.\n",
    "    - Elegir 3 empresas con suficientes observaciones (p. ej. mayor número de fechas disponibles o relevancia del negocio).\n",
    "    - Para cada empresa seleccionada, preparar los datos de entrenamiento/validación (features temporales, ventanas, lag, etc.) y definir la variable objetivo `cash` por `endDate`."
   ]
  },
  {
   "cell_type": "code",
   "execution_count": null,
   "id": "5a32a88f",
   "metadata": {},
   "outputs": [],
   "source": [
    "#codigo aqui"
   ]
  },
  {
   "cell_type": "markdown",
   "id": "91da7f44",
   "metadata": {},
   "source": [
    "# Paso 4 — Grafique tiempo vs dinero de las 3 empresas en 3 gráficas diferentes\n",
    "\n",
    "Objetivo: visualizar la serie temporal de `cash` frente a `endDate` para cada una de las 3 empresas seleccionadas, colocando cada empresa en una gráfica independiente.\n",
    "\n",
    "Pasos recomendados:\n",
    "- Asegurarse de tener el DataFrame con las columnas `stock`, `endDate` y `cash` y ordenado por `stock` y `endDate` ascendente.\n",
    "- Convertir `endDate` a tipo fecha: `df['endDate'] = pd.to_datetime(df['endDate'])`.\n",
    "- Seleccionar las 3 empresas elegidas: p. ej. `stocks = ['AAA','BBB','CCC']` y crear un subset por cada `stock`.\n",
    "- Para cada empresa, graficar `endDate` en el eje x y `cash` en el eje y en una figura separada.\n",
    "- Configurar títulos, etiquetas de ejes y formato de fechas (rotar etiquetas si es necesario). Añadir grid y leyenda si procede.\n",
    "- Opcional: usar subplots (3 filas x 1 columna) para mostrar las 3 gráficas en la misma figura o generar 3 figuras individuales según preferencia.\n",
    "- Guardar las figuras si es necesario: `plt.savefig('cash_stock_AAA.png', bbox_inches='tight')`.\n",
    "\n",
    "Ejemplo de librerías a usar: matplotlib, seaborn o plotly para interactividad."
   ]
  },
  {
   "cell_type": "markdown",
   "id": "7b1f3fdd",
   "metadata": {},
   "source": [
    "# Paso 5 — División 80/20 (entrenamiento / prueba)\n",
    "\n",
    "Objetivo: separar los datos en 80% para entrenamiento y 20% para prueba respetando la estructura temporal por empresa (sin hacer shuffle).\n",
    "\n",
    "Recomendaciones:\n",
    "- Asegúrate de tener las columnas `stock`, `endDate` y `cash` y que el dataframe esté ordenado por `stock` y `endDate` (ascendente).\n",
    "- Para series temporales por empresa, usa una división basada en tiempo: los primeros 80% de observaciones de cada `stock` → train; los últimos 20% → test.\n",
    "\n"
   ]
  },
  {
   "cell_type": "code",
   "execution_count": null,
   "id": "b3949091",
   "metadata": {},
   "outputs": [],
   "source": [
    "#codigo aqui"
   ]
  },
  {
   "cell_type": "markdown",
   "id": "0c079c9d",
   "metadata": {},
   "source": [
    "# Paso 6 — crea y entrena el modelo de regresión lineal para predecir `cash` por empresa\n",
    "\n",
    "Objetivo: entrenar un modelo de regresión lineal por cada `stock` usando la serie temporal (respetando orden temporal) y evaluar en el 20% final.\n",
    "\n",
    "Pasos recomendados:\n",
    "- Preprocesamiento\n",
    "    - Definir variables para el entrenamiento: y = `cash` (variable objetivo). `data` → X (conjunto de características a usar para predecir `cash`, p. ej. rezagos de `cash`, indicadores temporales, variables exógenas). Usar X e y en el entrenamiento: `model.fit(X_train, y_train)`.\n",
    "    - Asegurar `endDate` como datetime y ordenar por `stock`, `endDate`.  - Asegurar `endDate` como datetime y ordenar por `stock`, `endDate`.\n",
    "\n"
   ]
  },
  {
   "cell_type": "code",
   "execution_count": null,
   "id": "4ba338be",
   "metadata": {},
   "outputs": [],
   "source": [
    "#codigo aqui"
   ]
  },
  {
   "cell_type": "markdown",
   "id": "a4c868a3",
   "metadata": {},
   "source": [
    "# Paso 7 — Verifica tu modelo de regresión lineal: grafica real vs predicho para las 3 empresas\n",
    "\n",
    "- Objetivo: comparar visualmente los valores reales de `cash` del conjunto de prueba con los valores predichos por el modelo para cada una de las 3 empresas seleccionadas.\n",
    "- Requisitos: tener `endDate` como datetime, el conjunto test por cada `stock`, y las predicciones (`y_pred`) para cada test.\n",
    "- Pasos recomendados:\n",
    "    - Para cada empresa (stock):\n",
    "        - Extraer test: filas finales (20%) ordenadas por `endDate`.\n",
    "        - Obtener predicciones usando el modelo entrenado: `y_pred = model.predict(X_test)`.\n",
    "        - Crear una gráfica con `endDate` en el eje x y ambos: `cash` real (línea/points) y `cash` predicho (línea punteada) en el eje y.\n",
    "        - Añadir título con el ticker, leyenda, etiquetas de ejes y grid. Formatear fechas y rotar etiquetas si hace falta.\n",
    "    - Opcional: mostrar las 3 series en subplots (3 filas x 1 columna) para facilitar comparación.\n",
    "    - Calcular y mostrar métricas de error por empresa (MAE, RMSE, R2) bajo cada gráfico o en una tabla resumen.\n",
    "- Resultado esperado: tres gráficas (una por empresa) mostrando real vs predicho y una tabla o texto con las métricas de evaluación."
   ]
  },
  {
   "cell_type": "code",
   "execution_count": null,
   "id": "cafe8d62",
   "metadata": {},
   "outputs": [],
   "source": [
    "#codigo aqui"
   ]
  },
  {
   "cell_type": "markdown",
   "id": "0b718b0d",
   "metadata": {},
   "source": [
    "# Paso 8 — Verificación de modelos (MSE, RMSE, R2)\n",
    "\n",
    "Instrucciones breves:\n",
    "- Asegúrese de tener para cada empresa: y_test (valores reales) y y_pred (predicciones).\n",
    "- Calcular métricas con sklearn: mean_squared_error(y_test, y_pred), RMSE = sqrt(MSE), r2_score(y_test, y_pred).\n",
    "- Presentar los resultados en una tabla por empresa y añadir una conclusión corta.\n",
    "\n",
    "Empresa 1 (ticker: AAA)\n",
    "| Métrica | Valor |\n",
    "|---|---|\n",
    "| MSE |  |\n",
    "| RMSE |  |\n",
    "| R2 |  |\n",
    "\n",
    "Empresa 2 (ticker: BBB)\n",
    "| Métrica | Valor |\n",
    "|---|---|\n",
    "| MSE |  |\n",
    "| RMSE |  |\n",
    "| R2 |  |\n",
    "\n",
    "Empresa 3 (ticker: CCC)\n",
    "| Métrica | Valor |\n",
    "|---|---|\n",
    "| MSE |  |\n",
    "| RMSE |  |\n",
    "| R2 |  |\n",
    "\n",
    "Pequeña conclusión:\n",
    "- Comparar RMSE/MSE absolutos para evaluar error en unidades de `cash`; RMSE más bajo = mejor precisión.\n",
    "- R2 indica proporción de varianza explicada (cercano a 1 → buen ajuste; cercano a 0 o negativo → mal ajuste).\n",
    "- Si alguno de los modelos muestra RMSE alto o R2 bajo, considerar: más features (rezagos, variables temporales), regularización, transformación de la serie o modelos no lineales."
   ]
  },
  {
   "cell_type": "code",
   "execution_count": null,
   "id": "f65ba9c5",
   "metadata": {},
   "outputs": [],
   "source": [
    "#codigo aqui"
   ]
  },
  {
   "cell_type": "markdown",
   "id": "4dd44d82",
   "metadata": {},
   "source": [
    "## Preguntas de Analisis "
   ]
  },
  {
   "cell_type": "markdown",
   "id": "a90a4259",
   "metadata": {},
   "source": [
    "1. ¿Qué variables (features) usaste para predecir `cash` y por qué crees que son relevantes?\n",
    "2. ¿Cómo realizaste la división temporal 80/20 por empresa y por qué es importante no barajar (shuffle) los datos en series temporales?\n",
    "3. ¿Cuál es la diferencia entre MSE y RMSE y qué nos dice cada métrica sobre la precisión de las predicciones?\n",
    "4. ¿Qué interpreta el valor de R² en este problema (predicción de `cash`) y qué limitaciones tiene su interpretación en series temporales?\n",
    "5. Si obtienes un RMSE alto o un R² bajo, ¿qué acciones concretas propondrías para mejorar el modelo (p. ej. features, rezagos, transformaciones, modelos alternativos)?"
   ]
  }
 ],
 "metadata": {
  "kernelspec": {
   "display_name": "Python 3",
   "language": "python",
   "name": "python3"
  },
  "language_info": {
   "codemirror_mode": {
    "name": "ipython",
    "version": 3
   },
   "file_extension": ".py",
   "mimetype": "text/x-python",
   "name": "python",
   "nbconvert_exporter": "python",
   "pygments_lexer": "ipython3",
   "version": "3.12.4"
  }
 },
 "nbformat": 4,
 "nbformat_minor": 5
}
